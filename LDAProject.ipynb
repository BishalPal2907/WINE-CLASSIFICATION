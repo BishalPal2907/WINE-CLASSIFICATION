{
 "cells": [
  {
   "cell_type": "code",
   "execution_count": 1,
   "id": "d7fda004",
   "metadata": {},
   "outputs": [],
   "source": [
    "import pandas as pd"
   ]
  },
  {
   "cell_type": "code",
   "execution_count": 28,
   "id": "6f0f5cce",
   "metadata": {},
   "outputs": [],
   "source": [
    "dataset = pd.read_csv(\"NewWine.csv\")"
   ]
  },
  {
   "cell_type": "code",
   "execution_count": 29,
   "id": "dcb2a31c",
   "metadata": {},
   "outputs": [
    {
     "data": {
      "text/html": [
       "<div>\n",
       "<style scoped>\n",
       "    .dataframe tbody tr th:only-of-type {\n",
       "        vertical-align: middle;\n",
       "    }\n",
       "\n",
       "    .dataframe tbody tr th {\n",
       "        vertical-align: top;\n",
       "    }\n",
       "\n",
       "    .dataframe thead th {\n",
       "        text-align: right;\n",
       "    }\n",
       "</style>\n",
       "<table border=\"1\" class=\"dataframe\">\n",
       "  <thead>\n",
       "    <tr style=\"text-align: right;\">\n",
       "      <th></th>\n",
       "      <th>Alcohol</th>\n",
       "      <th>Malic_Acid</th>\n",
       "      <th>Ash</th>\n",
       "      <th>Ash_Alcanity</th>\n",
       "      <th>Magnesium</th>\n",
       "      <th>Total_Phenols</th>\n",
       "      <th>Flavanoids</th>\n",
       "      <th>Nonflavanoid_Phenols</th>\n",
       "      <th>Proanthocyanins</th>\n",
       "      <th>Color_intensity</th>\n",
       "      <th>Hue</th>\n",
       "      <th>OD280</th>\n",
       "      <th>Proline</th>\n",
       "      <th>Customer_Segment</th>\n",
       "    </tr>\n",
       "  </thead>\n",
       "  <tbody>\n",
       "    <tr>\n",
       "      <th>0</th>\n",
       "      <td>4.512416</td>\n",
       "      <td>1.164508</td>\n",
       "      <td>0.171135</td>\n",
       "      <td>14.568326</td>\n",
       "      <td>102</td>\n",
       "      <td>2.171726</td>\n",
       "      <td>3.06</td>\n",
       "      <td>0.28</td>\n",
       "      <td>2.29</td>\n",
       "      <td>8.728692</td>\n",
       "      <td>1.112579</td>\n",
       "      <td>1.155095</td>\n",
       "      <td>1146</td>\n",
       "      <td>1</td>\n",
       "    </tr>\n",
       "    <tr>\n",
       "      <th>1</th>\n",
       "      <td>10.012162</td>\n",
       "      <td>2.221821</td>\n",
       "      <td>0.954551</td>\n",
       "      <td>4.168597</td>\n",
       "      <td>90</td>\n",
       "      <td>1.736353</td>\n",
       "      <td>2.76</td>\n",
       "      <td>0.26</td>\n",
       "      <td>1.28</td>\n",
       "      <td>8.982531</td>\n",
       "      <td>0.883356</td>\n",
       "      <td>1.987949</td>\n",
       "      <td>1290</td>\n",
       "      <td>1</td>\n",
       "    </tr>\n",
       "    <tr>\n",
       "      <th>2</th>\n",
       "      <td>11.366359</td>\n",
       "      <td>2.859901</td>\n",
       "      <td>1.481386</td>\n",
       "      <td>11.390617</td>\n",
       "      <td>90</td>\n",
       "      <td>0.134700</td>\n",
       "      <td>3.24</td>\n",
       "      <td>0.30</td>\n",
       "      <td>2.81</td>\n",
       "      <td>0.380438</td>\n",
       "      <td>0.059090</td>\n",
       "      <td>1.674414</td>\n",
       "      <td>795</td>\n",
       "      <td>1</td>\n",
       "    </tr>\n",
       "    <tr>\n",
       "      <th>3</th>\n",
       "      <td>0.537999</td>\n",
       "      <td>0.781557</td>\n",
       "      <td>2.357351</td>\n",
       "      <td>28.712416</td>\n",
       "      <td>122</td>\n",
       "      <td>2.052474</td>\n",
       "      <td>3.49</td>\n",
       "      <td>0.24</td>\n",
       "      <td>2.18</td>\n",
       "      <td>5.244686</td>\n",
       "      <td>0.449874</td>\n",
       "      <td>1.527569</td>\n",
       "      <td>1230</td>\n",
       "      <td>1</td>\n",
       "    </tr>\n",
       "    <tr>\n",
       "      <th>4</th>\n",
       "      <td>0.644718</td>\n",
       "      <td>2.204970</td>\n",
       "      <td>0.863178</td>\n",
       "      <td>15.129664</td>\n",
       "      <td>100</td>\n",
       "      <td>2.498777</td>\n",
       "      <td>2.69</td>\n",
       "      <td>0.39</td>\n",
       "      <td>1.82</td>\n",
       "      <td>5.494266</td>\n",
       "      <td>0.245038</td>\n",
       "      <td>0.950191</td>\n",
       "      <td>640</td>\n",
       "      <td>1</td>\n",
       "    </tr>\n",
       "    <tr>\n",
       "      <th>...</th>\n",
       "      <td>...</td>\n",
       "      <td>...</td>\n",
       "      <td>...</td>\n",
       "      <td>...</td>\n",
       "      <td>...</td>\n",
       "      <td>...</td>\n",
       "      <td>...</td>\n",
       "      <td>...</td>\n",
       "      <td>...</td>\n",
       "      <td>...</td>\n",
       "      <td>...</td>\n",
       "      <td>...</td>\n",
       "      <td>...</td>\n",
       "      <td>...</td>\n",
       "    </tr>\n",
       "    <tr>\n",
       "      <th>173</th>\n",
       "      <td>9.256618</td>\n",
       "      <td>1.016172</td>\n",
       "      <td>1.090034</td>\n",
       "      <td>17.988685</td>\n",
       "      <td>109</td>\n",
       "      <td>0.057964</td>\n",
       "      <td>0.61</td>\n",
       "      <td>0.52</td>\n",
       "      <td>1.06</td>\n",
       "      <td>3.982173</td>\n",
       "      <td>1.411684</td>\n",
       "      <td>1.876999</td>\n",
       "      <td>1282</td>\n",
       "      <td>3</td>\n",
       "    </tr>\n",
       "    <tr>\n",
       "      <th>174</th>\n",
       "      <td>11.490679</td>\n",
       "      <td>3.308988</td>\n",
       "      <td>1.362172</td>\n",
       "      <td>3.956426</td>\n",
       "      <td>116</td>\n",
       "      <td>2.668404</td>\n",
       "      <td>0.75</td>\n",
       "      <td>0.43</td>\n",
       "      <td>1.41</td>\n",
       "      <td>2.985022</td>\n",
       "      <td>1.178574</td>\n",
       "      <td>1.778360</td>\n",
       "      <td>982</td>\n",
       "      <td>3</td>\n",
       "    </tr>\n",
       "    <tr>\n",
       "      <th>175</th>\n",
       "      <td>9.039226</td>\n",
       "      <td>1.341809</td>\n",
       "      <td>0.585694</td>\n",
       "      <td>28.569160</td>\n",
       "      <td>134</td>\n",
       "      <td>2.506137</td>\n",
       "      <td>0.69</td>\n",
       "      <td>0.43</td>\n",
       "      <td>1.35</td>\n",
       "      <td>1.313204</td>\n",
       "      <td>0.547195</td>\n",
       "      <td>1.040604</td>\n",
       "      <td>1631</td>\n",
       "      <td>3</td>\n",
       "    </tr>\n",
       "    <tr>\n",
       "      <th>176</th>\n",
       "      <td>12.725410</td>\n",
       "      <td>3.892551</td>\n",
       "      <td>1.273402</td>\n",
       "      <td>7.277311</td>\n",
       "      <td>138</td>\n",
       "      <td>0.305873</td>\n",
       "      <td>0.68</td>\n",
       "      <td>0.53</td>\n",
       "      <td>1.46</td>\n",
       "      <td>5.506504</td>\n",
       "      <td>0.649131</td>\n",
       "      <td>0.637512</td>\n",
       "      <td>566</td>\n",
       "      <td>3</td>\n",
       "    </tr>\n",
       "    <tr>\n",
       "      <th>177</th>\n",
       "      <td>2.579119</td>\n",
       "      <td>1.211344</td>\n",
       "      <td>0.093110</td>\n",
       "      <td>5.653721</td>\n",
       "      <td>141</td>\n",
       "      <td>1.232912</td>\n",
       "      <td>0.76</td>\n",
       "      <td>0.56</td>\n",
       "      <td>1.35</td>\n",
       "      <td>3.913524</td>\n",
       "      <td>1.116873</td>\n",
       "      <td>2.909375</td>\n",
       "      <td>1542</td>\n",
       "      <td>3</td>\n",
       "    </tr>\n",
       "  </tbody>\n",
       "</table>\n",
       "<p>178 rows × 14 columns</p>\n",
       "</div>"
      ],
      "text/plain": [
       "       Alcohol  Malic_Acid       Ash  Ash_Alcanity  Magnesium  Total_Phenols  \\\n",
       "0     4.512416    1.164508  0.171135     14.568326        102       2.171726   \n",
       "1    10.012162    2.221821  0.954551      4.168597         90       1.736353   \n",
       "2    11.366359    2.859901  1.481386     11.390617         90       0.134700   \n",
       "3     0.537999    0.781557  2.357351     28.712416        122       2.052474   \n",
       "4     0.644718    2.204970  0.863178     15.129664        100       2.498777   \n",
       "..         ...         ...       ...           ...        ...            ...   \n",
       "173   9.256618    1.016172  1.090034     17.988685        109       0.057964   \n",
       "174  11.490679    3.308988  1.362172      3.956426        116       2.668404   \n",
       "175   9.039226    1.341809  0.585694     28.569160        134       2.506137   \n",
       "176  12.725410    3.892551  1.273402      7.277311        138       0.305873   \n",
       "177   2.579119    1.211344  0.093110      5.653721        141       1.232912   \n",
       "\n",
       "     Flavanoids  Nonflavanoid_Phenols  Proanthocyanins  Color_intensity  \\\n",
       "0          3.06                  0.28             2.29         8.728692   \n",
       "1          2.76                  0.26             1.28         8.982531   \n",
       "2          3.24                  0.30             2.81         0.380438   \n",
       "3          3.49                  0.24             2.18         5.244686   \n",
       "4          2.69                  0.39             1.82         5.494266   \n",
       "..          ...                   ...              ...              ...   \n",
       "173        0.61                  0.52             1.06         3.982173   \n",
       "174        0.75                  0.43             1.41         2.985022   \n",
       "175        0.69                  0.43             1.35         1.313204   \n",
       "176        0.68                  0.53             1.46         5.506504   \n",
       "177        0.76                  0.56             1.35         3.913524   \n",
       "\n",
       "          Hue     OD280  Proline  Customer_Segment  \n",
       "0    1.112579  1.155095     1146                 1  \n",
       "1    0.883356  1.987949     1290                 1  \n",
       "2    0.059090  1.674414      795                 1  \n",
       "3    0.449874  1.527569     1230                 1  \n",
       "4    0.245038  0.950191      640                 1  \n",
       "..        ...       ...      ...               ...  \n",
       "173  1.411684  1.876999     1282                 3  \n",
       "174  1.178574  1.778360      982                 3  \n",
       "175  0.547195  1.040604     1631                 3  \n",
       "176  0.649131  0.637512      566                 3  \n",
       "177  1.116873  2.909375     1542                 3  \n",
       "\n",
       "[178 rows x 14 columns]"
      ]
     },
     "execution_count": 29,
     "metadata": {},
     "output_type": "execute_result"
    }
   ],
   "source": [
    "dataset"
   ]
  },
  {
   "cell_type": "code",
   "execution_count": 30,
   "id": "b432f3b7",
   "metadata": {},
   "outputs": [],
   "source": [
    "X = dataset.iloc[:,:-1].values"
   ]
  },
  {
   "cell_type": "code",
   "execution_count": 31,
   "id": "3850b7ad",
   "metadata": {},
   "outputs": [],
   "source": [
    "y = dataset.iloc[:,-1].values"
   ]
  },
  {
   "cell_type": "code",
   "execution_count": 32,
   "id": "ad1308e4",
   "metadata": {},
   "outputs": [
    {
     "data": {
      "text/plain": [
       "array([[4.51241615e+00, 1.16450836e+00, 1.71135236e-01, ...,\n",
       "        1.11257855e+00, 1.15509475e+00, 1.14600000e+03],\n",
       "       [1.00121621e+01, 2.22182073e+00, 9.54551276e-01, ...,\n",
       "        8.83356068e-01, 1.98794930e+00, 1.29000000e+03],\n",
       "       [1.13663586e+01, 2.85990115e+00, 1.48138585e+00, ...,\n",
       "        5.90897100e-02, 1.67441361e+00, 7.95000000e+02],\n",
       "       ...,\n",
       "       [9.03922634e+00, 1.34180922e+00, 5.85693879e-01, ...,\n",
       "        5.47195000e-01, 1.04060441e+00, 1.63100000e+03],\n",
       "       [1.27254100e+01, 3.89255058e+00, 1.27340230e+00, ...,\n",
       "        6.49130905e-01, 6.37511988e-01, 5.66000000e+02],\n",
       "       [2.57911863e+00, 1.21134418e+00, 9.31096150e-02, ...,\n",
       "        1.11687313e+00, 2.90937513e+00, 1.54200000e+03]])"
      ]
     },
     "execution_count": 32,
     "metadata": {},
     "output_type": "execute_result"
    }
   ],
   "source": [
    "X"
   ]
  },
  {
   "cell_type": "code",
   "execution_count": 33,
   "id": "b6470007",
   "metadata": {},
   "outputs": [
    {
     "data": {
      "text/plain": [
       "array([1, 1, 1, 1, 1, 1, 1, 1, 1, 1, 1, 1, 1, 1, 1, 1, 1, 1, 1, 1, 1, 1,\n",
       "       1, 1, 1, 1, 1, 1, 1, 1, 1, 1, 1, 1, 1, 1, 1, 1, 1, 1, 1, 1, 1, 1,\n",
       "       1, 1, 1, 1, 1, 1, 2, 2, 2, 2, 2, 2, 2, 2, 2, 2, 2, 2, 2, 2, 2, 2,\n",
       "       2, 2, 2, 2, 2, 2, 2, 2, 2, 2, 2, 2, 2, 2, 2, 2, 2, 2, 2, 2, 2, 2,\n",
       "       2, 2, 2, 2, 2, 2, 2, 2, 2, 2, 2, 2, 2, 2, 2, 2, 2, 2, 2, 2, 2, 2,\n",
       "       2, 2, 2, 2, 2, 2, 2, 2, 2, 3, 3, 3, 3, 3, 3, 3, 3, 3, 3, 3, 3, 3,\n",
       "       3, 3, 3, 3, 3, 3, 3, 3, 3, 3, 3, 3, 3, 3, 3, 3, 3, 3, 3, 3, 3, 3,\n",
       "       3, 3, 3, 3, 3, 3, 3, 3, 3, 3, 3, 3, 3, 3, 3, 3, 3, 3, 3, 3, 3, 3,\n",
       "       3, 3], dtype=int64)"
      ]
     },
     "execution_count": 33,
     "metadata": {},
     "output_type": "execute_result"
    }
   ],
   "source": [
    "y"
   ]
  },
  {
   "cell_type": "code",
   "execution_count": 34,
   "id": "b615e4a9",
   "metadata": {},
   "outputs": [],
   "source": [
    "from sklearn.model_selection import train_test_split"
   ]
  },
  {
   "cell_type": "code",
   "execution_count": 35,
   "id": "6adfc01f",
   "metadata": {},
   "outputs": [],
   "source": [
    "X_train , X_test, y_train , y_test = train_test_split(X, y, test_size=0.25, random_state=42)"
   ]
  },
  {
   "cell_type": "code",
   "execution_count": 36,
   "id": "13697c24",
   "metadata": {},
   "outputs": [
    {
     "data": {
      "text/plain": [
       "array([1, 1, 3, 1, 2, 1, 3, 3, 2, 3, 1, 3, 1, 2, 1, 2, 2, 2, 1, 2, 1, 2,\n",
       "       2, 3, 3, 3, 2, 2, 2, 2, 1, 3, 3, 1, 1, 1, 3, 3, 2, 3, 1, 2, 2, 2,\n",
       "       3], dtype=int64)"
      ]
     },
     "execution_count": 36,
     "metadata": {},
     "output_type": "execute_result"
    }
   ],
   "source": [
    "y_test"
   ]
  },
  {
   "cell_type": "code",
   "execution_count": 37,
   "id": "0eb75465",
   "metadata": {},
   "outputs": [],
   "source": [
    "from sklearn.preprocessing import StandardScaler\n",
    "sc = StandardScaler()"
   ]
  },
  {
   "cell_type": "code",
   "execution_count": 38,
   "id": "0f030742",
   "metadata": {},
   "outputs": [],
   "source": [
    "X_train = sc.fit_transform(X_train)\n",
    "X_test = sc.transform(X_test)"
   ]
  },
  {
   "cell_type": "code",
   "execution_count": 39,
   "id": "3d978674",
   "metadata": {},
   "outputs": [
    {
     "data": {
      "text/plain": [
       "array([[ 0.85833647,  0.94160839,  0.12750257, ..., -1.80096336,\n",
       "         0.28738852, -0.72451106],\n",
       "       [ 0.51381469, -0.96845856, -1.29480785, ..., -0.75963933,\n",
       "         0.19302726,  0.08726176],\n",
       "       [ 1.03431396,  0.04079541,  0.1166097 , ..., -0.95157196,\n",
       "        -1.41462705,  1.77422715],\n",
       "       ...,\n",
       "       [ 1.48280159, -1.39911126, -0.1706967 , ..., -1.13513308,\n",
       "         0.00932305,  0.70877533],\n",
       "       [ 0.52065337,  0.16808211,  0.10422031, ...,  0.03241781,\n",
       "         0.57305365,  1.06392594],\n",
       "       [-0.98036436, -0.39159552, -0.51652576, ...,  0.13801058,\n",
       "         0.91716194, -1.30797277]])"
      ]
     },
     "execution_count": 39,
     "metadata": {},
     "output_type": "execute_result"
    }
   ],
   "source": [
    "X_train"
   ]
  },
  {
   "cell_type": "code",
   "execution_count": 40,
   "id": "6c677cf5",
   "metadata": {},
   "outputs": [],
   "source": [
    "from sklearn.discriminant_analysis import LinearDiscriminantAnalysis as LDA\n",
    "lda = LDA(n_components = 2)\n",
    "X_train = lda.fit_transform(X_train , y_train)\n",
    "X_test = lda.transform(X_test)"
   ]
  },
  {
   "cell_type": "code",
   "execution_count": 41,
   "id": "ccbfc117",
   "metadata": {},
   "outputs": [
    {
     "data": {
      "text/plain": [
       "array([[ 2.13779911e+00, -2.06921917e-01],\n",
       "       [ 2.26511657e-01, -1.41610333e+00],\n",
       "       [-4.12805915e-02,  8.08855042e-01],\n",
       "       [-1.73300748e+00,  1.97937811e+00],\n",
       "       [ 1.09226896e+00, -1.14329039e+00],\n",
       "       [ 1.20897770e-01, -1.27232115e+00],\n",
       "       [ 1.37093427e+00, -1.46109711e+00],\n",
       "       [ 1.61867863e+00,  2.18648859e+00],\n",
       "       [-2.12699277e+00,  1.14718017e+00],\n",
       "       [-1.99204918e+00,  9.16889978e-01],\n",
       "       [ 2.84984510e-01,  2.68877527e-01],\n",
       "       [ 6.33591024e-02, -1.67361817e-03],\n",
       "       [ 6.27761022e-01, -3.01971700e-01],\n",
       "       [-3.58672625e-02, -2.92123824e+00],\n",
       "       [ 1.41734324e+00,  1.42209982e-01],\n",
       "       [-1.56441099e+00, -1.94677115e-01],\n",
       "       [ 6.54402170e-01, -4.46133793e-01],\n",
       "       [-9.13745009e-01, -1.19543984e+00],\n",
       "       [-1.92659058e+00, -1.04984499e+00],\n",
       "       [ 8.30414948e-01, -3.13665481e-02],\n",
       "       [ 7.24429562e-01,  7.33393442e-01],\n",
       "       [ 4.07830082e-02,  7.86362635e-01],\n",
       "       [-1.53270684e+00, -1.89566155e-01],\n",
       "       [ 1.14117722e+00,  8.44904992e-01],\n",
       "       [ 1.25014733e+00,  2.11974695e+00],\n",
       "       [-1.98196815e-02, -1.44578046e+00],\n",
       "       [-1.61182801e+00,  6.44751774e-01],\n",
       "       [-6.12091097e-01, -1.30328045e+00],\n",
       "       [ 2.16784944e+00, -2.95651142e-01],\n",
       "       [-2.19072688e+00,  8.21005609e-01],\n",
       "       [ 9.80323483e-01,  3.17342457e-01],\n",
       "       [ 1.52779740e+00,  1.11840474e-01],\n",
       "       [-2.21416181e+00,  5.47598399e-01],\n",
       "       [ 1.59711609e+00,  2.22832647e+00],\n",
       "       [-2.71804554e-01, -6.45413030e-01],\n",
       "       [ 1.28034183e+00, -2.38696830e-02],\n",
       "       [-6.73343849e-01, -2.20031520e+00],\n",
       "       [ 1.76080566e+00,  1.19510218e+00],\n",
       "       [ 2.40927787e+00,  1.12522613e+00],\n",
       "       [-7.93905253e-01,  2.92602758e-02],\n",
       "       [ 1.06423153e+00,  1.88194084e+00],\n",
       "       [ 4.45192525e-01, -8.55187063e-02],\n",
       "       [-1.36239708e+00, -1.27688715e+00],\n",
       "       [ 6.87107151e-01, -1.88270994e+00],\n",
       "       [ 1.72147624e-01, -5.79861740e-01],\n",
       "       [ 3.01701992e-01, -1.40666910e+00],\n",
       "       [ 9.79830273e-01, -1.32298729e+00],\n",
       "       [-7.11939767e-01, -1.83599779e+00],\n",
       "       [-7.29633670e-01,  3.12487629e-01],\n",
       "       [ 7.72982015e-01, -2.25732883e-01],\n",
       "       [-1.72423030e+00, -5.58577786e-02],\n",
       "       [-2.51412537e+00,  3.57132476e-01],\n",
       "       [ 2.68484922e+00,  1.74804422e+00],\n",
       "       [ 3.45649917e-01, -1.78619874e+00],\n",
       "       [-2.05203644e+00,  8.35274196e-01],\n",
       "       [-1.33981870e+00,  9.31450471e-01],\n",
       "       [-2.05987460e-01,  1.81993142e+00],\n",
       "       [ 2.25960798e+00,  6.19594957e-01],\n",
       "       [ 1.22984738e+00,  1.58139887e+00],\n",
       "       [ 1.28927383e-01,  2.77171238e-02],\n",
       "       [-9.77958135e-01,  1.30132491e+00],\n",
       "       [-2.17886850e+00,  1.62038495e+00],\n",
       "       [-7.63324300e-01,  3.16350689e-01],\n",
       "       [-2.21817775e+00,  6.69982385e-02],\n",
       "       [-5.97032873e-02,  2.37336079e-01],\n",
       "       [-5.57080150e-01, -1.57343978e+00],\n",
       "       [-5.70106966e-01, -2.40239699e-01],\n",
       "       [ 9.57743367e-01,  9.38725813e-01],\n",
       "       [ 1.28852921e+00,  4.07770115e-01],\n",
       "       [-1.50644669e+00,  1.74035423e-01],\n",
       "       [ 2.41311513e+00,  1.14459469e+00],\n",
       "       [-1.76820926e+00,  1.16968385e-01],\n",
       "       [ 1.92390996e+00, -4.48164549e-01],\n",
       "       [ 1.02583412e+00,  9.26603462e-01],\n",
       "       [ 4.61250377e-01, -1.00537245e+00],\n",
       "       [-1.14438503e+00, -1.34890638e+00],\n",
       "       [ 1.32871342e+00,  1.00980676e+00],\n",
       "       [ 1.12273480e+00, -1.98010813e-01],\n",
       "       [ 1.27850891e+00,  1.50187452e+00],\n",
       "       [ 1.48197160e+00, -1.58100470e+00],\n",
       "       [ 5.76204698e-01,  5.86062894e-01],\n",
       "       [-1.63457599e+00, -8.95248403e-01],\n",
       "       [-1.93924480e+00,  7.39482426e-01],\n",
       "       [ 9.95687217e-01, -1.18042658e+00],\n",
       "       [-1.43812648e+00,  1.30702787e+00],\n",
       "       [-7.71054155e-01,  5.57207970e-01],\n",
       "       [-1.72482788e+00,  9.65406671e-01],\n",
       "       [-2.24529958e+00, -1.11486735e-01],\n",
       "       [-6.79469029e-01,  4.77694530e-02],\n",
       "       [ 1.17545494e+00, -1.98186698e+00],\n",
       "       [ 1.78652320e+00, -1.05994702e-02],\n",
       "       [-1.94377088e+00, -1.27079540e+00],\n",
       "       [-8.11000931e-01, -1.45412280e-01],\n",
       "       [-6.50782524e-01,  4.99006020e-01],\n",
       "       [ 1.33329631e+00,  2.44258115e-01],\n",
       "       [-3.17222112e-01,  7.44885798e-01],\n",
       "       [-2.05494222e+00,  2.94470073e+00],\n",
       "       [-1.69457167e+00,  6.97445099e-04],\n",
       "       [-1.77342586e+00,  2.21821118e-01],\n",
       "       [-1.60893699e+00, -6.94915635e-01],\n",
       "       [ 1.85045420e+00, -9.98353428e-01],\n",
       "       [ 1.24153284e+00, -7.59976724e-01],\n",
       "       [-2.92357070e-01, -2.06759206e-01],\n",
       "       [ 1.44593878e+00, -2.45946500e-01],\n",
       "       [-1.84283746e+00, -1.32601730e-01],\n",
       "       [ 2.29184267e+00, -5.88481246e-02],\n",
       "       [ 1.29953095e+00, -1.05122594e+00],\n",
       "       [-3.94077162e-01,  1.16978653e+00],\n",
       "       [ 7.40977877e-01,  2.69884935e-01],\n",
       "       [ 1.34480508e+00,  4.81587834e-01],\n",
       "       [-1.73628035e+00,  4.90530660e-02],\n",
       "       [-1.86112916e-01,  1.16375657e+00],\n",
       "       [ 7.69127620e-01, -3.40776078e-01],\n",
       "       [-2.42693565e+00, -1.51329399e+00],\n",
       "       [-1.84323402e+00,  1.44861792e-01],\n",
       "       [ 1.23946533e+00,  1.09488573e+00],\n",
       "       [ 2.26551500e+00, -2.07804080e+00],\n",
       "       [-1.12937309e+00, -3.09302167e-01],\n",
       "       [-4.73963003e-01, -1.09455299e+00],\n",
       "       [-1.67807685e-01,  1.07058617e+00],\n",
       "       [-8.79862869e-01, -6.76011782e-02],\n",
       "       [ 3.18656329e-01, -2.17903605e+00],\n",
       "       [-9.31710145e-01, -6.77925808e-01],\n",
       "       [-5.39993741e-01,  1.05621908e+00],\n",
       "       [ 1.64218691e-01, -8.30809473e-01],\n",
       "       [ 3.02823701e+00,  5.58059720e-01],\n",
       "       [-2.12359140e+00, -3.84308553e-01],\n",
       "       [ 2.29239740e+00, -2.50919481e-02],\n",
       "       [ 1.74458264e+00,  1.26177082e+00],\n",
       "       [-2.39101478e-01, -1.80863422e+00],\n",
       "       [ 2.25077923e+00, -9.62306902e-01],\n",
       "       [-1.00264967e+00,  6.82618817e-01],\n",
       "       [ 3.00881329e-01, -7.82263463e-02]])"
      ]
     },
     "execution_count": 41,
     "metadata": {},
     "output_type": "execute_result"
    }
   ],
   "source": [
    "X_train"
   ]
  },
  {
   "cell_type": "code",
   "execution_count": 45,
   "id": "25570d29",
   "metadata": {},
   "outputs": [],
   "source": [
    "from sklearn.linear_model import LogisticRegression as LR\n",
    "lr = LR()\n",
    "lr.fit(X_train, y_train)\n",
    "y_pred = lr.predict(X_test)\n"
   ]
  },
  {
   "cell_type": "code",
   "execution_count": 46,
   "id": "220e1efb",
   "metadata": {},
   "outputs": [
    {
     "data": {
      "text/plain": [
       "array([1, 1, 3, 1, 2, 1, 3, 3, 2, 3, 1, 3, 1, 2, 1, 2, 2, 2, 1, 2, 1, 2,\n",
       "       2, 3, 3, 3, 2, 2, 2, 2, 1, 3, 3, 1, 1, 1, 3, 3, 2, 3, 1, 2, 2, 2,\n",
       "       3], dtype=int64)"
      ]
     },
     "execution_count": 46,
     "metadata": {},
     "output_type": "execute_result"
    }
   ],
   "source": [
    "y_test"
   ]
  },
  {
   "cell_type": "code",
   "execution_count": 47,
   "id": "ef237ea2",
   "metadata": {},
   "outputs": [
    {
     "data": {
      "text/plain": [
       "array([[10,  4,  0],\n",
       "       [ 7,  7,  3],\n",
       "       [ 0,  4, 10]], dtype=int64)"
      ]
     },
     "execution_count": 47,
     "metadata": {},
     "output_type": "execute_result"
    }
   ],
   "source": [
    "from sklearn.metrics import confusion_matrix\n",
    "confusion_matrix(y_test, y_pred)"
   ]
  },
  {
   "cell_type": "code",
   "execution_count": 48,
   "id": "ff49aed6",
   "metadata": {},
   "outputs": [],
   "source": [
    "from sklearn.metrics import accuracy_score"
   ]
  },
  {
   "cell_type": "code",
   "execution_count": 49,
   "id": "3d88dd55",
   "metadata": {},
   "outputs": [
    {
     "data": {
      "text/plain": [
       "0.6"
      ]
     },
     "execution_count": 49,
     "metadata": {},
     "output_type": "execute_result"
    }
   ],
   "source": [
    "accuracy_score(y_test, y_pred)"
   ]
  },
  {
   "cell_type": "code",
   "execution_count": 50,
   "id": "571cc6fd",
   "metadata": {},
   "outputs": [],
   "source": [
    "import matplotlib.pyplot as plt\n",
    "from matplotlib.colors import ListedColormap\n",
    "import numpy as np"
   ]
  },
  {
   "cell_type": "code",
   "execution_count": 52,
   "id": "f6690d6b",
   "metadata": {},
   "outputs": [
    {
     "name": "stderr",
     "output_type": "stream",
     "text": [
      "*c* argument looks like a single numeric RGB or RGBA sequence, which should be avoided as value-mapping will have precedence in case its length matches with *x* & *y*.  Please use the *color* keyword-argument or provide a 2D array with a single row if you intend to specify the same RGB or RGBA value for all points.\n",
      "*c* argument looks like a single numeric RGB or RGBA sequence, which should be avoided as value-mapping will have precedence in case its length matches with *x* & *y*.  Please use the *color* keyword-argument or provide a 2D array with a single row if you intend to specify the same RGB or RGBA value for all points.\n",
      "*c* argument looks like a single numeric RGB or RGBA sequence, which should be avoided as value-mapping will have precedence in case its length matches with *x* & *y*.  Please use the *color* keyword-argument or provide a 2D array with a single row if you intend to specify the same RGB or RGBA value for all points.\n"
     ]
    },
    {
     "data": {
      "image/png": "[encoded data removed]",
      "text/plain": [
       "<Figure size 432x288 with 1 Axes>"
      ]
     },
     "metadata": {
      "needs_background": "light"
     },
     "output_type": "display_data"
    }
   ],
   "source": [
    "X_set, y_set = X_train , y_train\n",
    "X1, X2 = np.meshgrid(\n",
    "            np.arange(start = X_set[:,0].min()-1, stop = X_set[:,0].max()+1, step = 0.25),\n",
    "            np.arange(start = X_set[:,1].min()-1, stop = X_set[:,1].max()+1, step = 0.25)\n",
    "                    )\n",
    "plt.contourf(X1, X2, lr.predict(np.array([X1.ravel(), X2.ravel()]).T).reshape(X1.shape),\n",
    "            alpha = 0.75, cmap = ListedColormap(('red','green','blue')))\n",
    "plt.xlim(X1.min(), X1.max())\n",
    "plt.ylim(X2.min(), X2.max())\n",
    "\n",
    "for i, j in enumerate(np.unique(y_set)):\n",
    "    plt.scatter(X_set[y_set == j,0], X_set[y_set == j, 1],\n",
    "               c = ListedColormap(('red','green','blue'))(i), label = j)\n"
   ]
  },
  {
   "cell_type": "code",
   "execution_count": 53,
   "id": "c80043b5",
   "metadata": {},
   "outputs": [
    {
     "name": "stderr",
     "output_type": "stream",
     "text": [
      "*c* argument looks like a single numeric RGB or RGBA sequence, which should be avoided as value-mapping will have precedence in case its length matches with *x* & *y*.  Please use the *color* keyword-argument or provide a 2D array with a single row if you intend to specify the same RGB or RGBA value for all points.\n",
      "*c* argument looks like a single numeric RGB or RGBA sequence, which should be avoided as value-mapping will have precedence in case its length matches with *x* & *y*.  Please use the *color* keyword-argument or provide a 2D array with a single row if you intend to specify the same RGB or RGBA value for all points.\n",
      "*c* argument looks like a single numeric RGB or RGBA sequence, which should be avoided as value-mapping will have precedence in case its length matches with *x* & *y*.  Please use the *color* keyword-argument or provide a 2D array with a single row if you intend to specify the same RGB or RGBA value for all points.\n"
     ]
    },
    {
     "data": {
      "image/png": "[encoded data removed]",
      "text/plain": [
       "<Figure size 432x288 with 1 Axes>"
      ]
     },
     "metadata": {
      "needs_background": "light"
     },
     "output_type": "display_data"
    }
   ],
   "source": [
    "X_set, y_set = X_test , y_test\n",
    "X1, X2 = np.meshgrid(\n",
    "            np.arange(start = X_set[:,0].min()-1, stop = X_set[:,0].max()+1, step = 0.25),\n",
    "            np.arange(start = X_set[:,1].min()-1, stop = X_set[:,1].max()+1, step = 0.25)\n",
    "                    )\n",
    "plt.contourf(X1, X2, lr.predict(np.array([X1.ravel(), X2.ravel()]).T).reshape(X1.shape),\n",
    "            alpha = 0.75, cmap = ListedColormap(('red','green','blue')))\n",
    "plt.xlim(X1.min(), X1.max())\n",
    "plt.ylim(X2.min(), X2.max())\n",
    "\n",
    "for i, j in enumerate(np.unique(y_set)):\n",
    "    plt.scatter(X_set[y_set == j,0], X_set[y_set == j, 1],\n",
    "               c = ListedColormap(('red','green','blue'))(i), label = j)\n"
   ]
  },
  {
   "cell_type": "code",
   "execution_count": null,
   "id": "26ee8ae4",
   "metadata": {},
   "outputs": [],
   "source": []
  }
 ],
 "metadata": {
  "kernelspec": {
   "display_name": "Python 3 (ipykernel)",
   "language": "python",
   "name": "python3"
  },
  "language_info": {
   "codemirror_mode": {
    "name": "ipython",
    "version": 3
   },
   "file_extension": ".py",
   "mimetype": "text/x-python",
   "name": "python",
   "nbconvert_exporter": "python",
   "pygments_lexer": "ipython3",
   "version": "3.9.12"
  }
 },
 "nbformat": 4,
 "nbformat_minor": 5
}
